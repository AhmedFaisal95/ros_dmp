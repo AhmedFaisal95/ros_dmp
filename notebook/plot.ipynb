{
 "cells": [
  {
   "cell_type": "code",
   "execution_count": 4,
   "metadata": {},
   "outputs": [],
   "source": [
    "%matplotlib qt\n",
    "import numpy as np\n",
    "import yaml\n",
    "import matplotlib.pyplot as plt\n",
    "from mpl_toolkits.mplot3d import Axes3D\n"
   ]
  },
  {
   "cell_type": "code",
   "execution_count": 2,
   "metadata": {},
   "outputs": [
    {
     "ename": "NameError",
     "evalue": "name 'exe_plot' is not defined",
     "output_type": "error",
     "traceback": [
      "\u001b[0;31m---------------------------------------------------------------------------\u001b[0m",
      "\u001b[0;31mNameError\u001b[0m                                 Traceback (most recent call last)",
      "\u001b[0;32m<ipython-input-2-9dc441d3847b>\u001b[0m in \u001b[0;36m<module>\u001b[0;34m()\u001b[0m\n\u001b[1;32m     30\u001b[0m     \u001b[0max\u001b[0m\u001b[0;34m.\u001b[0m\u001b[0mplot\u001b[0m\u001b[0;34m(\u001b[0m\u001b[0mexecuted_trajectory\u001b[0m\u001b[0;34m[\u001b[0m\u001b[0;34m:\u001b[0m\u001b[0;34m,\u001b[0m \u001b[0;36m0\u001b[0m\u001b[0;34m]\u001b[0m\u001b[0;34m,\u001b[0m \u001b[0mexecuted_trajectory\u001b[0m\u001b[0;34m[\u001b[0m\u001b[0;34m:\u001b[0m\u001b[0;34m,\u001b[0m \u001b[0;36m1\u001b[0m\u001b[0;34m]\u001b[0m\u001b[0;34m,\u001b[0m \u001b[0mexecuted_trajectory\u001b[0m\u001b[0;34m[\u001b[0m\u001b[0;34m:\u001b[0m\u001b[0;34m,\u001b[0m \u001b[0;36m2\u001b[0m\u001b[0;34m]\u001b[0m\u001b[0;34m,\u001b[0m \u001b[0mlabel\u001b[0m\u001b[0;34m=\u001b[0m\u001b[0;34m'executed_trajectory'\u001b[0m\u001b[0;34m)\u001b[0m\u001b[0;34m\u001b[0m\u001b[0m\n\u001b[1;32m     31\u001b[0m     \u001b[0max\u001b[0m\u001b[0;34m.\u001b[0m\u001b[0mplot\u001b[0m\u001b[0;34m(\u001b[0m\u001b[0mplanned_trajectory\u001b[0m\u001b[0;34m[\u001b[0m\u001b[0;34m:\u001b[0m\u001b[0;34m,\u001b[0m \u001b[0;36m0\u001b[0m\u001b[0;34m]\u001b[0m\u001b[0;34m,\u001b[0m \u001b[0mplanned_trajectory\u001b[0m\u001b[0;34m[\u001b[0m\u001b[0;34m:\u001b[0m\u001b[0;34m,\u001b[0m \u001b[0;36m1\u001b[0m\u001b[0;34m]\u001b[0m\u001b[0;34m,\u001b[0m \u001b[0mplanned_trajectory\u001b[0m\u001b[0;34m[\u001b[0m\u001b[0;34m:\u001b[0m\u001b[0;34m,\u001b[0m \u001b[0;36m2\u001b[0m\u001b[0;34m]\u001b[0m\u001b[0;34m,\u001b[0m \u001b[0mlabel\u001b[0m\u001b[0;34m=\u001b[0m\u001b[0;34m'planned_trajectory'\u001b[0m\u001b[0;34m)\u001b[0m\u001b[0;34m\u001b[0m\u001b[0m\n\u001b[0;32m---> 32\u001b[0;31m     ax.legend([exe_plot, pla_plot, e_i, e_g, p_i, p_g], ['executed_trajectory', 'planned_trajectory', 'initial_pose_executed', \n\u001b[0m\u001b[1;32m     33\u001b[0m                                                          'goal_pose_executed', 'initial_pose_planned', 'goal_pose_executed'])\n\u001b[1;32m     34\u001b[0m \u001b[0;34m\u001b[0m\u001b[0m\n",
      "\u001b[0;31mNameError\u001b[0m: name 'exe_plot' is not defined"
     ]
    }
   ],
   "source": [
    "\n",
    "e = ['50', '100', '250_0_001', '250_0_005', '250']\n",
    "for i in range(5):\n",
    "    exp = e[i]\n",
    "    file_name = \"../data/experiments/square/plan_1_\" + exp + \".yaml\"\n",
    "    with open(file_name) as f:\n",
    "        loadeddict = yaml.load(f)\n",
    "    planned_trajectory = loadeddict.get('planned_trajectory')\n",
    "    planned_trajectory = np.array(planned_trajectory)    \n",
    "\n",
    "    file_name = \"../data/experiments/square/goal_1_\" + exp + \".yaml\"\n",
    "    with open(file_name) as f:\n",
    "        loadeddict = yaml.load(f)\n",
    "        \n",
    "    fig = plt.figure()\n",
    "    ax = Axes3D(fig)\n",
    "    plt.axis('equal')\n",
    "    ax.axis('equal')\n",
    "    executed_trajectory = loadeddict.get('executed_trajectory')\n",
    "    executed_trajectory = np.array(executed_trajectory)\n",
    "    ax.set_title('square_trajectory_' + exp + '_basis_function')\n",
    "    ax.set_xlabel('x-axis')\n",
    "    ax.set_ylabel('y-axis')\n",
    "    ax.set_zlabel('z-axis')\n",
    "    e_i = ax.scatter(executed_trajectory[0, 0], executed_trajectory[0, 1], executed_trajectory[0, 2], label=\"initial_pose_executed\")\n",
    "    e_g = ax.scatter(executed_trajectory[-1, 0], executed_trajectory[-1, 1], executed_trajectory[-1, 2], label=\"goal_pose_executed\") \n",
    "    p_i = ax.scatter(planned_trajectory[0, 0], planned_trajectory[0, 1], planned_trajectory[0, 2], label=\"initial_pose_planned\")\n",
    "    p_g = ax.scatter(planned_trajectory[-1, 0], planned_trajectory[-1, 1], planned_trajectory[-1, 2], label=\"goal_pose_planned\")\n",
    "    \n",
    "    ax.plot(executed_trajectory[:, 0], executed_trajectory[:, 1], executed_trajectory[:, 2], label='executed_trajectory')\n",
    "    ax.plot(planned_trajectory[:, 0], planned_trajectory[:, 1], planned_trajectory[:, 2], label='planned_trajectory')\n",
    "    ax.legend([exe_plot, pla_plot, e_i, e_g, p_i, p_g], ['executed_trajectory', 'planned_trajectory', 'initial_pose_executed', \n",
    "                                                         'goal_pose_executed', 'initial_pose_planned', 'goal_pose_executed'])\n",
    "\n",
    "    plt.show()"
   ]
  },
  {
   "cell_type": "code",
   "execution_count": 16,
   "metadata": {},
   "outputs": [],
   "source": [
    "\n",
    "for i in range(1, 5):\n",
    "    fig = plt.figure()\n",
    "    ax = Axes3D(fig)\n",
    "    for j in range(5):\n",
    "        trial = str(j + 1)\n",
    "        exp = str(i + 1)\n",
    "        file_name = \"../data/experiments/23_05_inverse_parabola/plan_\" + exp + \"_trial_\" + trial + \".yaml\"\n",
    "        with open(file_name) as f:\n",
    "            loadeddict = yaml.load(f)\n",
    "        planned_trajectory = loadeddict.get('planned_trajectory')\n",
    "        planned_trajectory = np.array(planned_trajectory)    \n",
    "\n",
    "        file_name = \"../data/experiments/23_05_inverse_parabola/goal_\" + exp + \"_trial_\" + trial + \".yaml\"\n",
    "        with open(file_name) as f:\n",
    "            loadeddict = yaml.load(f)\n",
    "        executed_trajectory = loadeddict.get('executed_trajectory')\n",
    "        executed_trajectory = np.array(executed_trajectory)\n",
    "\n",
    "\n",
    "        plt.axis('equal')\n",
    "        ax.axis('equal')\n",
    "        ax.set_title('trajectory_06'+exp)\n",
    "        ax.set_xlabel('x-axis')\n",
    "        ax.set_ylabel('y-axis')\n",
    "        ax.set_zlabel('z-axis')\n",
    "        e_i = ax.scatter(executed_trajectory[0, 0], executed_trajectory[0, 1], executed_trajectory[0, 2], label=\"initial_pose_executed\")\n",
    "        e_g = ax.scatter(executed_trajectory[-1, 0], executed_trajectory[-1, 1], executed_trajectory[-1, 2], label=\"goal_pose_executed\") \n",
    "        p_i = ax.scatter(planned_trajectory[0, 0], planned_trajectory[0, 1], planned_trajectory[0, 2], label=\"initial_pose_planned\")\n",
    "        p_g = ax.scatter(planned_trajectory[-1, 0], planned_trajectory[-1, 1], planned_trajectory[-1, 2], label=\"goal_pose_planned\")\n",
    "\n",
    "        exe_plot, = ax.plot(executed_trajectory[:, 0], executed_trajectory[:, 1], executed_trajectory[:, 2], label='executed_trajectory')\n",
    "        pla_plot, = ax.plot(planned_trajectory[:, 0], planned_trajectory[:, 1], planned_trajectory[:, 2], label='planned_trajectory')\n",
    "        ax.legend([exe_plot, pla_plot, e_i, e_g, p_i, p_g], ['executed_trajectory', 'planned_trajectory', 'initial_pose_executed', \n",
    "                                                             'goal_pose_executed', 'initial_pose_planned', 'goal_pose_executed'])\n",
    "    plt.show()"
   ]
  },
  {
   "cell_type": "code",
   "execution_count": 17,
   "metadata": {},
   "outputs": [],
   "source": [
    "def calculate_error(experiment):\n",
    "    error_list = []\n",
    "    for i in range(5):\n",
    "        for j in range(5):\n",
    "            print (\"#\")\n",
    "\n",
    "            error = 0.0\n",
    "            trial = str(j + 1)\n",
    "            exp = str(i + 1)\n",
    "            file_name = experiment + \"plan_\" + exp + \"_trial_\" + trial + \".yaml\"\n",
    "            with open(file_name) as f:\n",
    "                loadeddict = yaml.load(f)\n",
    "            planned_trajectory = loadeddict.get('planned_trajectory')\n",
    "            planned_trajectory = np.array(planned_trajectory)    \n",
    "\n",
    "            file_name = experiment + \"goal_\" + exp + \"_trial_\" + trial + \".yaml\"\n",
    "            with open(file_name) as f:\n",
    "                loadeddict = yaml.load(f)\n",
    "            executed_trajectory = loadeddict.get('executed_trajectory')\n",
    "            executed_trajectory = np.array(executed_trajectory)\n",
    "\n",
    "            number_of_points = 0\n",
    "            for p1 in executed_trajectory:\n",
    "                dist = []\n",
    "\n",
    "                for p2 in planned_trajectory:\n",
    "\n",
    "                    p2 = np.array([p2[0], p2[1], p2[2]])\n",
    "                    dist.append(np.linalg.norm((p1 - p2)))\n",
    "                error += min(dist)\n",
    "                number_of_points += 1\n",
    "            if number_of_points > 0:\n",
    "                error = error/number_of_points\n",
    "            else :\n",
    "                print(i , j)\n",
    "            \n",
    "            error_list.append(error)\n",
    "    return error_list"
   ]
  },
  {
   "cell_type": "code",
   "execution_count": 28,
   "metadata": {},
   "outputs": [],
   "source": [
    "def calculate_error(experiment):\n",
    "    error_list = []\n",
    "    for i in range(1):\n",
    "        for j in range(14):\n",
    "            print (\"#\")\n",
    "\n",
    "            error = 0.0\n",
    "            trial = str(j)\n",
    "            exp = str(i + 1)\n",
    "            file_name = experiment + \"plan_2_0_trial_\" + trial + \".yaml\"\n",
    "            with open(file_name) as f:\n",
    "                loadeddict = yaml.load(f)\n",
    "            planned_trajectory = loadeddict.get('planned_trajectory')\n",
    "            planned_trajectory = np.array(planned_trajectory)    \n",
    "\n",
    "            file_name = experiment + \"goal_2_0_trial_\" + trial + \".yaml\"\n",
    "            with open(file_name) as f:\n",
    "                loadeddict = yaml.load(f)\n",
    "            executed_trajectory = loadeddict.get('executed_trajectory')\n",
    "            executed_trajectory = np.array(executed_trajectory)\n",
    "\n",
    "            number_of_points = 0\n",
    "            for p1 in executed_trajectory:\n",
    "                dist = []\n",
    "\n",
    "                for p2 in planned_trajectory:\n",
    "\n",
    "                    p2 = np.array([p2[0], p2[1], p2[2]])\n",
    "                    dist.append(np.linalg.norm((p1 - p2)))\n",
    "                error += min(dist)\n",
    "                number_of_points += 1\n",
    "            if number_of_points > 0:\n",
    "                error = error/number_of_points\n",
    "            else :\n",
    "                print(i , j)\n",
    "            \n",
    "            error_list.append(error)\n",
    "    return error_list"
   ]
  },
  {
   "cell_type": "code",
   "execution_count": 29,
   "metadata": {},
   "outputs": [
    {
     "name": "stdout",
     "output_type": "stream",
     "text": [
      "calculating .......\n",
      "#\n",
      "#\n",
      "#\n",
      "#\n",
      "#\n",
      "#\n",
      "#\n",
      "#\n",
      "#\n",
      "#\n",
      "#\n",
      "#\n",
      "#\n",
      "#\n",
      "done\n"
     ]
    }
   ],
   "source": [
    "# experiment1 = \"../data/experiments/23_05_inverse_parabola/\"\n",
    "# experiment2 = \"../data/experiments/23_05_step_function/\"\n",
    "# experiment3 = \"../data/experiments/26_05_inverse_parabola_s06/\"\n",
    "# experiment4 = \"../data/experiments/26_05_inverse_parabola_s05/\"\n",
    "# experiment5 = \"../data/experiments/26_05_line/\"\n",
    "\n",
    "\n",
    "\n",
    "\n",
    "# experiment1 = \"../data/experiments/07_07_inverse_parabola/\"\n",
    "experiment1 = \"../data/experiments/02_08_place_on_table/\"\n",
    "\n",
    "print (\"calculating .......\")\n",
    "\n",
    "#experiment5 = \"../data/experiments/\"\n",
    "experiment1_error = calculate_error(experiment1)\n",
    "print(\"done\")\n",
    "# experiment3_error = calculate_error(experiment3)\n",
    "# print(\"done\")\n",
    "# experiment4_error = calculate_error(experiment4)\n",
    "# print(\"done\")\n",
    "# experiment5_error = calculate_error(experiment5)\n"
   ]
  },
  {
   "cell_type": "code",
   "execution_count": 18,
   "metadata": {},
   "outputs": [
    {
     "name": "stdout",
     "output_type": "stream",
     "text": [
      "#\n",
      "#\n",
      "#\n",
      "#\n",
      "#\n",
      "#\n",
      "#\n",
      "#\n",
      "#\n",
      "#\n",
      "#\n",
      "#\n",
      "#\n",
      "#\n",
      "#\n",
      "#\n",
      "#\n",
      "#\n",
      "#\n",
      "#\n",
      "#\n",
      "#\n",
      "#\n",
      "#\n",
      "#\n"
     ]
    }
   ],
   "source": [
    "experiment3_error = calculate_error(experiment3)\n"
   ]
  },
  {
   "cell_type": "code",
   "execution_count": 12,
   "metadata": {},
   "outputs": [],
   "source": [
    "def plot(error, name='Trajectory Error'):\n",
    "    g1 = plt.scatter(np.arange(10), error[0:10], marker='.', label='goal 1')\n",
    "    g2 = plt.scatter(np.arange(10,20), error[10:20], marker='.', label='goal 2')\n",
    "    g3 = plt.scatter(np.arange(20,30), error[20:30], marker='.', label='goal 3')\n",
    "    g4 = plt.scatter(np.arange(30,40), error[30:40], marker='.', label='goal 4')\n",
    "    g5 = plt.scatter(np.arange(40,50), error[40:50], marker='.', label='goal 5')\n",
    "    plt.title(name)\n",
    "    plt.xlabel('Number of trials')\n",
    "    plt.ylabel('Normalized point to point error (meter)')\n",
    "    plt.legend(handles=[g1, g2, g3, g4, g5])\n",
    "    plt.grid('true')\n",
    "    plt.show()"
   ]
  },
  {
   "cell_type": "code",
   "execution_count": 30,
   "metadata": {},
   "outputs": [
    {
     "name": "stdout",
     "output_type": "stream",
     "text": [
      "14\n"
     ]
    }
   ],
   "source": [
    "def plot(error, name='Trajectory Error'):\n",
    "    plt.grid('true')\n",
    "    g1 = plt.scatter(np.arange(13), error[0:13], marker='.', c='b')\n",
    " \n",
    "    plt.title(name)\n",
    "    plt.xlabel('Number of trials')\n",
    "    plt.ylabel('Normalized point to point error (meter)')\n",
    "\n",
    "    \n",
    "    plt.show()\n",
    "print (len(experiment1_error))\n",
    "plot(experiment1_error, \"Error in trajectory execution\")\n"
   ]
  },
  {
   "cell_type": "code",
   "execution_count": 13,
   "metadata": {},
   "outputs": [
    {
     "ename": "NameError",
     "evalue": "name 'experiment2_error' is not defined",
     "output_type": "error",
     "traceback": [
      "\u001b[0;31m---------------------------------------------------------------------------\u001b[0m",
      "\u001b[0;31mNameError\u001b[0m                                 Traceback (most recent call last)",
      "\u001b[0;32m<ipython-input-13-3bc0f7c088b5>\u001b[0m in \u001b[0;36m<module>\u001b[0;34m()\u001b[0m\n\u001b[0;32m----> 1\u001b[0;31m \u001b[0mplot\u001b[0m\u001b[0;34m(\u001b[0m\u001b[0mexperiment2_error\u001b[0m\u001b[0;34m,\u001b[0m \u001b[0;34m\"Error in trajectory execution\"\u001b[0m\u001b[0;34m)\u001b[0m\u001b[0;34m\u001b[0m\u001b[0m\n\u001b[0m",
      "\u001b[0;31mNameError\u001b[0m: name 'experiment2_error' is not defined"
     ]
    }
   ],
   "source": [
    "plot(experiment2_error, \"Error in trajectory execution\")\n"
   ]
  },
  {
   "cell_type": "code",
   "execution_count": 20,
   "metadata": {},
   "outputs": [],
   "source": [
    "def plot(error, name='Trajectory Error'):\n",
    "    g1 = plt.scatter(np.arange(5), error[0:5], marker='.', label='goal 1')\n",
    "    g2 = plt.scatter(np.arange(5,10), error[5:10], marker='.', label='goal 2')\n",
    "    g3 = plt.scatter(np.arange(10,15), error[10:15], marker='.', label='goal 3')\n",
    "    g4 = plt.scatter(np.arange(15,20), error[15:20], marker='.', label='goal 4')\n",
    "    g5 = plt.scatter(np.arange(20,25), error[20:25], marker='.', label='goal 5')\n",
    "    plt.title(name)\n",
    "    plt.xlabel('Number of trials')\n",
    "    plt.ylabel('Normalized point to point error (meter)')\n",
    "    plt.legend(handles=[g1, g2, g3, g4, g5])\n",
    "    plt.grid('true')\n",
    "    plt.show()"
   ]
  },
  {
   "cell_type": "code",
   "execution_count": 22,
   "metadata": {},
   "outputs": [],
   "source": [
    "plot(experiment3_error, \"Error in trajectory execution\")\n"
   ]
  },
  {
   "cell_type": "code",
   "execution_count": 23,
   "metadata": {},
   "outputs": [],
   "source": [
    "plot(experiment4_error, \"Error in trajectory execution\")\n"
   ]
  },
  {
   "cell_type": "code",
   "execution_count": 24,
   "metadata": {},
   "outputs": [],
   "source": [
    "plot(experiment5_error, \"Error in trajectory execution\")\n"
   ]
  },
  {
   "cell_type": "code",
   "execution_count": 15,
   "metadata": {},
   "outputs": [],
   "source": [
    "mean_error_list = []\n",
    "variance = []\n",
    "mean_error_list.append(np.mean(experiment1_error))\n",
    "mean_error_list.append(np.mean(experiment2_error))\n",
    "mean_error_list.append(np.mean(experiment3_error))\n",
    "mean_error_list.append(np.mean(experiment4_error))\n",
    "mean_error_list.append(np.mean(experiment4_error))\n",
    "\n",
    "variance.append(np.var(experiment1_error))\n",
    "variance.append(np.var(experiment2_error))\n",
    "variance.append(np.var(experiment3_error))\n",
    "variance.append(np.var(experiment4_error))\n",
    "variance.append(np.var(experiment5_error))"
   ]
  },
  {
   "cell_type": "code",
   "execution_count": 16,
   "metadata": {},
   "outputs": [],
   "source": [
    "\n",
    "plt.scatter(np.arange(5), mean_error_list)\n",
    "plt.title('Mean Error in execution of planned trajectories')\n",
    "plt.ylabel('Mean error (meter)')\n",
    "plt.xlabel('Experiment number')\n",
    "plt.show()"
   ]
  },
  {
   "cell_type": "code",
   "execution_count": 18,
   "metadata": {},
   "outputs": [],
   "source": [
    "plt.scatter(np.arange(5), variance)\n",
    "plt.title('Variance')\n",
    "plt.ylabel('variance')\n",
    "plt.xlabel('Experiment number')\n",
    "plt.show()"
   ]
  },
  {
   "cell_type": "code",
   "execution_count": 112,
   "metadata": {},
   "outputs": [
    {
     "data": {
      "text/plain": [
       "array([ 0.00087042,  0.00094476,  0.00091945,  0.00083713,  0.00095715,\n",
       "        0.00088823,  0.00088035,  0.00092261,  0.00089721,  0.00095715,\n",
       "       -0.00108147, -0.00120777, -0.00126891, -0.00149056, -0.00122472,\n",
       "       -0.00116489, -0.00120979, -0.00118849, -0.0012664 , -0.00125431,\n",
       "       -0.00099556, -0.00101706, -0.00090184, -0.00098948, -0.00095633,\n",
       "       -0.00100691, -0.0009264 , -0.00108332, -0.00094779, -0.00095471,\n",
       "       -0.0003119 , -0.00045428, -0.00043295, -0.0003657 , -0.00041392,\n",
       "       -0.00042947, -0.00043543, -0.00039456, -0.00039502, -0.0003543 ,\n",
       "        0.00182646,  0.00174292,  0.00111099,  0.00169642,  0.00181156,\n",
       "        0.00176764,  0.00173883,  0.0018025 ,  0.00172857,  0.0018239 ])"
      ]
     },
     "execution_count": 112,
     "metadata": {},
     "output_type": "execute_result"
    }
   ],
   "source": [
    "experiment1 = \"../data/experiments/07_07_inverse_parabola/\"\n",
    "experiment2 = \"../data/experiments/07_07_square/\"\n",
    "experiment3 = \"../data/experiments/30_06_line_wbc/\"\n",
    "\n",
    "#experiment5 = \"../data/experiments/\"\n",
    "experiment1_error = calculate_error(experiment1)\n",
    "print(\"done\")\n",
    "experiment2_error = calculate_error(experiment2)\n",
    "print(\"done\")\n",
    "experiment3_error = calculate_error(experiment1)\n",
    "print(\"done\")\n",
    "experiment4_error = calculate_error(experiment2)\n",
    "print(\"done\")\n",
    "experiment5_error = calculate_error(experiment1)\n"
   ]
  },
  {
   "cell_type": "code",
   "execution_count": null,
   "metadata": {},
   "outputs": [],
   "source": []
  }
 ],
 "metadata": {
  "kernelspec": {
   "display_name": "Python 3",
   "language": "python",
   "name": "python3"
  },
  "language_info": {
   "codemirror_mode": {
    "name": "ipython",
    "version": 3
   },
   "file_extension": ".py",
   "mimetype": "text/x-python",
   "name": "python",
   "nbconvert_exporter": "python",
   "pygments_lexer": "ipython3",
   "version": "3.6.4"
  }
 },
 "nbformat": 4,
 "nbformat_minor": 2
}
