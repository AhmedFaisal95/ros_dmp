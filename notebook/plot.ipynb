{
 "cells": [
  {
   "cell_type": "code",
   "execution_count": 1,
   "metadata": {},
   "outputs": [],
   "source": [
    "%matplotlib qt\n",
    "import numpy as np\n",
    "import yaml\n",
    "import matplotlib.pyplot as plt\n",
    "from mpl_toolkits.mplot3d import Axes3D\n"
   ]
  },
  {
   "cell_type": "code",
   "execution_count": null,
   "metadata": {},
   "outputs": [],
   "source": []
  },
  {
   "cell_type": "code",
   "execution_count": 88,
   "metadata": {},
   "outputs": [],
   "source": []
  },
  {
   "cell_type": "code",
   "execution_count": 91,
   "metadata": {},
   "outputs": [],
   "source": []
  },
  {
   "cell_type": "code",
   "execution_count": 92,
   "metadata": {},
   "outputs": [],
   "source": [
    "\n",
    "e = ['50', '100', '250_0_001', '250_0_005', '250']\n",
    "for i in range(5):\n",
    "    exp = e[i]\n",
    "    file_name = \"../data/experiments/square/plan_1_\" + exp + \".yaml\"\n",
    "    with open(file_name) as f:\n",
    "        loadeddict = yaml.load(f)\n",
    "    planned_trajectory = loadeddict.get('planned_trajectory')\n",
    "    planned_trajectory = np.array(planned_trajectory)    \n",
    "\n",
    "    file_name = \"../data/experiments/square/goal_1_\" + exp + \".yaml\"\n",
    "    with open(file_name) as f:\n",
    "        loadeddict = yaml.load(f)\n",
    "        \n",
    "    fig = plt.figure()\n",
    "    ax = Axes3D(fig)\n",
    "    plt.axis('equal')\n",
    "    ax.axis('equal')\n",
    "    executed_trajectory = loadeddict.get('executed_trajectory')\n",
    "    executed_trajectory = np.array(executed_trajectory)\n",
    "    ax.set_title('square_trajectory_' + exp + '_basis_function')\n",
    "    ax.set_xlabel('x-axis')\n",
    "    ax.set_ylabel('y-axis')\n",
    "    ax.set_zlabel('z-axis')\n",
    "    e_i = ax.scatter(executed_trajectory[0, 0], executed_trajectory[0, 1], executed_trajectory[0, 2], label=\"initial_pose_executed\")\n",
    "    e_g = ax.scatter(executed_trajectory[-1, 0], executed_trajectory[-1, 1], executed_trajectory[-1, 2], label=\"goal_pose_executed\") \n",
    "    p_i = ax.scatter(planned_trajectory[0, 0], planned_trajectory[0, 1], planned_trajectory[0, 2], label=\"initial_pose_planned\")\n",
    "    p_g = ax.scatter(planned_trajectory[-1, 0], planned_trajectory[-1, 1], planned_trajectory[-1, 2], label=\"goal_pose_planned\")\n",
    "    \n",
    "    ax.plot(executed_trajectory[:, 0], executed_trajectory[:, 1], executed_trajectory[:, 2], label='executed_trajectory')\n",
    "    ax.plot(planned_trajectory[:, 0], planned_trajectory[:, 1], planned_trajectory[:, 2], label='planned_trajectory')\n",
    "    ax.legend([exe_plot, pla_plot, e_i, e_g, p_i, p_g], ['executed_trajectory', 'planned_trajectory', 'initial_pose_executed', \n",
    "                                                         'goal_pose_executed', 'initial_pose_planned', 'goal_pose_executed'])\n",
    "\n",
    "    plt.show()"
   ]
  },
  {
   "cell_type": "code",
   "execution_count": 90,
   "metadata": {},
   "outputs": [],
   "source": [
    "\n",
    "for i in range(1, 5):\n",
    "    fig = plt.figure()\n",
    "    ax = Axes3D(fig)\n",
    "    for j in range(10):\n",
    "        trial = str(j + 1)\n",
    "        exp = str(i + 1)\n",
    "        file_name = \"../data/experiments/23_05_inverse_parabola/plan_\" + exp + \"_trial_\" + trial + \".yaml\"\n",
    "        with open(file_name) as f:\n",
    "            loadeddict = yaml.load(f)\n",
    "        planned_trajectory = loadeddict.get('planned_trajectory')\n",
    "        planned_trajectory = np.array(planned_trajectory)    \n",
    "\n",
    "        file_name = \"../data/experiments/23_05_inverse_parabola/goal_\" + exp + \"_trial_\" + trial + \".yaml\"\n",
    "        with open(file_name) as f:\n",
    "            loadeddict = yaml.load(f)\n",
    "        executed_trajectory = loadeddict.get('executed_trajectory')\n",
    "        executed_trajectory = np.array(executed_trajectory)\n",
    "\n",
    "\n",
    "        plt.axis('equal')\n",
    "        ax.axis('equal')\n",
    "        ax.set_title('trajectory_06'+exp)\n",
    "        ax.set_xlabel('x-axis')\n",
    "        ax.set_ylabel('y-axis')\n",
    "        ax.set_zlabel('z-axis')\n",
    "        e_i = ax.scatter(executed_trajectory[0, 0], executed_trajectory[0, 1], executed_trajectory[0, 2], label=\"initial_pose_executed\")\n",
    "        e_g = ax.scatter(executed_trajectory[-1, 0], executed_trajectory[-1, 1], executed_trajectory[-1, 2], label=\"goal_pose_executed\") \n",
    "        p_i = ax.scatter(planned_trajectory[0, 0], planned_trajectory[0, 1], planned_trajectory[0, 2], label=\"initial_pose_planned\")\n",
    "        p_g = ax.scatter(planned_trajectory[-1, 0], planned_trajectory[-1, 1], planned_trajectory[-1, 2], label=\"goal_pose_planned\")\n",
    "\n",
    "        exe_plot, = ax.plot(executed_trajectory[:, 0], executed_trajectory[:, 1], executed_trajectory[:, 2], label='executed_trajectory')\n",
    "        pla_plot, = ax.plot(planned_trajectory[:, 0], planned_trajectory[:, 1], planned_trajectory[:, 2], label='planned_trajectory')\n",
    "        ax.legend([exe_plot, pla_plot, e_i, e_g, p_i, p_g], ['executed_trajectory', 'planned_trajectory', 'initial_pose_executed', \n",
    "                                                             'goal_pose_executed', 'initial_pose_planned', 'goal_pose_executed'])\n",
    "    plt.show()"
   ]
  },
  {
   "cell_type": "code",
   "execution_count": 35,
   "metadata": {},
   "outputs": [],
   "source": [
    "def calculate_error(experiment):\n",
    "    error_list = []\n",
    "    for i in range(5):\n",
    "        for j in range(10):\n",
    "            error = 0.0\n",
    "            trial = str(j + 1)\n",
    "            exp = str(i + 1)\n",
    "            file_name = experiment + \"plan_\" + exp + \"_trial_\" + trial + \".yaml\"\n",
    "            with open(file_name) as f:\n",
    "                loadeddict = yaml.load(f)\n",
    "            planned_trajectory = loadeddict.get('planned_trajectory')\n",
    "            planned_trajectory = np.array(planned_trajectory)    \n",
    "\n",
    "            file_name = experiment + \"goal_\" + exp + \"_trial_\" + trial + \".yaml\"\n",
    "            with open(file_name) as f:\n",
    "                loadeddict = yaml.load(f)\n",
    "            executed_trajectory = loadeddict.get('executed_trajectory')\n",
    "            executed_trajectory = np.array(executed_trajectory)\n",
    "\n",
    "            number_of_points = 0\n",
    "            for p1 in executed_trajectory:\n",
    "                dist = []\n",
    "\n",
    "                for p2 in planned_trajectory:\n",
    "\n",
    "                    p2 = np.array([p2[0], p2[1], p2[2]])\n",
    "                    dist.append(np.linalg.norm((p1 - p2)))\n",
    "                error += min(dist)\n",
    "                number_of_points += 1\n",
    "            if number_of_points > 0:\n",
    "                error = error/number_of_points\n",
    "            else :\n",
    "                print(i , j)\n",
    "            \n",
    "            error_list.append(error)\n",
    "    return error_list"
   ]
  },
  {
   "cell_type": "code",
   "execution_count": 94,
   "metadata": {},
   "outputs": [],
   "source": [
    "experiment1 = \"../data/experiments/23_05_inverse_parabola/\"\n",
    "experiment2 = \"../data/experiments/23_05_step_function/\"\n",
    "experiment3 = \"../data/experiments/26_05_inverse_parabola_s06/\"\n",
    "experiment4 = \"../data/experiments/26_05_inverse_parabola_s05/\"\n",
    "#experiment5 = \"../data/experiments/\"\n",
    "experiment1_error = calculate_error(experiment1)\n",
    "experiment2_error = calculate_error(experiment2)\n",
    "experiment3_error = calculate_error(experiment3)\n",
    "experiment4_error = calculate_error(experiment4)"
   ]
  },
  {
   "cell_type": "code",
   "execution_count": 125,
   "metadata": {},
   "outputs": [],
   "source": [
    "def plot(error, name='Trajectory Error'):\n",
    "    g1 = plt.scatter(np.arange(10), error[0:10], marker='.', label='goal 1')\n",
    "    g2 = plt.scatter(np.arange(10,20), error[10:20], marker='.', label='goal 2')\n",
    "    g3 = plt.scatter(np.arange(20,30), error[20:30], marker='.', label='goal 3')\n",
    "    g4 = plt.scatter(np.arange(30,40), error[30:40], marker='.', label='goal 4')\n",
    "    g5 = plt.scatter(np.arange(40,50), error[40:50], marker='.', label='goal 5')\n",
    "    plt.title(name)\n",
    "    plt.xlabel('Number of trials')\n",
    "    plt.ylabel('Normalized point to point error (meter)')\n",
    "    plt.legend(handles=[g1, g2, g3, g4, g5])\n",
    "    plt.grid('true')\n",
    "    plt.show()"
   ]
  },
  {
   "cell_type": "code",
   "execution_count": 131,
   "metadata": {},
   "outputs": [],
   "source": [
    "plot(experiment1_error, \"Error in trajectory execution - Experiment 1\")\n"
   ]
  },
  {
   "cell_type": "code",
   "execution_count": 132,
   "metadata": {},
   "outputs": [],
   "source": [
    "plot(experiment2_error, \"Error in trajectory execution - Experiment 2\")\n"
   ]
  },
  {
   "cell_type": "code",
   "execution_count": 133,
   "metadata": {},
   "outputs": [],
   "source": [
    "plot(experiment3_error, \"Error in trajectory execution - Experiment 3\")\n"
   ]
  },
  {
   "cell_type": "code",
   "execution_count": 134,
   "metadata": {},
   "outputs": [],
   "source": [
    "plot(experiment4_error, \"Error in trajectory execution - Experiment 4\")\n"
   ]
  },
  {
   "cell_type": "code",
   "execution_count": null,
   "metadata": {},
   "outputs": [],
   "source": []
  },
  {
   "cell_type": "code",
   "execution_count": 107,
   "metadata": {},
   "outputs": [],
   "source": [
    "mean_error_list = []\n",
    "variance = []\n",
    "mean_error_list.append(np.mean(experiment1_error))\n",
    "mean_error_list.append(np.mean(experiment2_error))\n",
    "mean_error_list.append(np.mean(experiment3_error))\n",
    "mean_error_list.append(np.mean(experiment4_error))\n",
    "variance.append(np.var(experiment1_error))\n",
    "variance.append(np.var(experiment2_error))\n",
    "variance.append(np.var(experiment2_error))\n",
    "variance.append(np.var(experiment2_error))"
   ]
  },
  {
   "cell_type": "code",
   "execution_count": 142,
   "metadata": {},
   "outputs": [],
   "source": [
    "\n",
    "plt.scatter(np.arange(4), mean_error_list)\n",
    "plt.title('Mean Error in execution of planned trajectories')\n",
    "plt.ylabel('Mean error (meter)')\n",
    "plt.xlabel('Experiment number')\n",
    "plt.show()"
   ]
  },
  {
   "cell_type": "code",
   "execution_count": 141,
   "metadata": {},
   "outputs": [],
   "source": [
    "plt.scatter(np.arange(4), variance)\n",
    "plt.title('Variance')\n",
    "plt.ylabel('variance')\n",
    "plt.xlabel('Experiment number')\n",
    "plt.show()"
   ]
  },
  {
   "cell_type": "code",
   "execution_count": 112,
   "metadata": {},
   "outputs": [
    {
     "data": {
      "text/plain": [
       "array([ 0.00087042,  0.00094476,  0.00091945,  0.00083713,  0.00095715,\n",
       "        0.00088823,  0.00088035,  0.00092261,  0.00089721,  0.00095715,\n",
       "       -0.00108147, -0.00120777, -0.00126891, -0.00149056, -0.00122472,\n",
       "       -0.00116489, -0.00120979, -0.00118849, -0.0012664 , -0.00125431,\n",
       "       -0.00099556, -0.00101706, -0.00090184, -0.00098948, -0.00095633,\n",
       "       -0.00100691, -0.0009264 , -0.00108332, -0.00094779, -0.00095471,\n",
       "       -0.0003119 , -0.00045428, -0.00043295, -0.0003657 , -0.00041392,\n",
       "       -0.00042947, -0.00043543, -0.00039456, -0.00039502, -0.0003543 ,\n",
       "        0.00182646,  0.00174292,  0.00111099,  0.00169642,  0.00181156,\n",
       "        0.00176764,  0.00173883,  0.0018025 ,  0.00172857,  0.0018239 ])"
      ]
     },
     "execution_count": 112,
     "metadata": {},
     "output_type": "execute_result"
    }
   ],
   "source": []
  },
  {
   "cell_type": "code",
   "execution_count": null,
   "metadata": {},
   "outputs": [],
   "source": []
  }
 ],
 "metadata": {
  "kernelspec": {
   "display_name": "Python 3",
   "language": "python",
   "name": "python3"
  },
  "language_info": {
   "codemirror_mode": {
    "name": "ipython",
    "version": 3
   },
   "file_extension": ".py",
   "mimetype": "text/x-python",
   "name": "python",
   "nbconvert_exporter": "python",
   "pygments_lexer": "ipython3",
   "version": "3.6.4"
  }
 },
 "nbformat": 4,
 "nbformat_minor": 2
}
