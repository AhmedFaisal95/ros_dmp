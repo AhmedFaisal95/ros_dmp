{
 "cells": [
  {
   "cell_type": "code",
   "execution_count": 23,
   "metadata": {},
   "outputs": [],
   "source": [
    "%matplotlib qt\n",
    "import yaml\n",
    "import numpy as np\n",
    "import matplotlib.pyplot as plt\n",
    "from mpl_toolkits.mplot3d import Axes3D\n"
   ]
  },
  {
   "cell_type": "code",
   "execution_count": 30,
   "metadata": {},
   "outputs": [
    {
     "data": {
      "text/plain": [
       "[<mpl_toolkits.mplot3d.art3d.Line3D at 0x7fd4449e0390>]"
      ]
     },
     "execution_count": 30,
     "metadata": {},
     "output_type": "execute_result"
    }
   ],
   "source": [
    "z = np.ones(92) * 0.1\n",
    "x1 = np.ones(31) * 0.42\n",
    "x2 = np.ones(30) * 0.52\n",
    "x3 = np.ones(31) * 0.46\n",
    "#x4 = np.ones(30) * 0.52\n",
    "#x5 = np.ones(31) * 0.48\n",
    "\n",
    "x = np.concatenate((x1, x2))\n",
    "x = np.concatenate((x, x3))\n",
    "#x = np.concatenate((x, x4))\n",
    "#x = np.concatenate((x, x5))\n",
    "\n",
    "\n",
    "y1 = np.linspace(-0.19,-0.12,31)\n",
    "y2 = np.linspace(-0.12, -0.04,30)\n",
    "y3 = np.linspace(-0.04, 0.04,31)\n",
    "#y4 = np.linspace(0.04, 0.12,30)\n",
    "#y5 = np.linspace(0.12, 0.20,31)\n",
    "\n",
    "y = np.concatenate((y1, y2))\n",
    "y = np.concatenate((y, y3))\n",
    "#y = np.concatenate((y, y4))\n",
    "#y = np.concatenate((y, y5))\n",
    "\n",
    "linear = np.vstack((x,y))\n",
    "linear = np.vstack((linear, z))\n",
    "linear = linear.T\n",
    "rotational = np.zeros((92, 3))\n",
    "\n",
    "data = {'linear_trajectory': np.asarray(linear).tolist(), \\\n",
    "        'rotational_trajectory': np.asarray(rotational).tolist()}\n",
    "with open('../data/recorded_trajectories/old_trajectories/' + \"line.yaml\", \"w\") as f:\n",
    "    yaml.dump(data, f) \n",
    "    \n",
    "fig = plt.figure()\n",
    "ax = Axes3D(fig)\n",
    "ax.plot(x, y, z)"
   ]
  },
  {
   "cell_type": "code",
   "execution_count": 9,
   "metadata": {},
   "outputs": [
    {
     "data": {
      "text/plain": [
       "array([1. , 1.5, 2. ])"
      ]
     },
     "execution_count": 9,
     "metadata": {},
     "output_type": "execute_result"
    }
   ],
   "source": [
    "\n"
   ]
  },
  {
   "cell_type": "code",
   "execution_count": null,
   "metadata": {},
   "outputs": [],
   "source": []
  }
 ],
 "metadata": {
  "kernelspec": {
   "display_name": "Python 3",
   "language": "python",
   "name": "python3"
  },
  "language_info": {
   "codemirror_mode": {
    "name": "ipython",
    "version": 3
   },
   "file_extension": ".py",
   "mimetype": "text/x-python",
   "name": "python",
   "nbconvert_exporter": "python",
   "pygments_lexer": "ipython3",
   "version": "3.6.4"
  }
 },
 "nbformat": 4,
 "nbformat_minor": 2
}
